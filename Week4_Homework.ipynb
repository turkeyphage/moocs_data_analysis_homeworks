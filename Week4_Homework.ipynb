{
 "cells": [
  {
   "cell_type": "code",
   "execution_count": 3,
   "metadata": {},
   "outputs": [],
   "source": [
    "#jupyter nbextension enable --py --sys-prefix widgetsnbextension"
   ]
  },
  {
   "cell_type": "markdown",
   "metadata": {},
   "source": [
    "# 第一題：抽點系統\n",
    "老師想做一個抽點系統, 也就是按一個鍵就抽一位同學出來。某班同學有大雄、胖虎、小夫、宜靜、小杉。\n",
    "\n",
    "請幫老師寫個點名系統。\n",
    "\n",
    "### Hint\n",
    "interact_manual 用到的函數可以不用有任何參數\n",
    "np.random.choice 會從一個 list 隨機取一個元素出來"
   ]
  },
  {
   "cell_type": "code",
   "execution_count": 1,
   "metadata": {},
   "outputs": [
    {
     "name": "stdout",
     "output_type": "stream",
     "text": [
      "開始點名：\n"
     ]
    },
    {
     "data": {
      "application/vnd.jupyter.widget-view+json": {
       "model_id": "7068e29c7e104062b7814e2e5cb74c21",
       "version_major": 2,
       "version_minor": 0
      },
      "text/html": [
       "<p>Failed to display Jupyter Widget of type <code>interactive</code>.</p>\n",
       "<p>\n",
       "  If you're reading this message in Jupyter Notebook or JupyterLab, it may mean\n",
       "  that the widgets JavaScript is still loading. If this message persists, it\n",
       "  likely means that the widgets JavaScript library is either not installed or\n",
       "  not enabled. See the <a href=\"https://ipywidgets.readthedocs.io/en/stable/user_install.html\">Jupyter\n",
       "  Widgets Documentation</a> for setup instructions.\n",
       "</p>\n",
       "<p>\n",
       "  If you're reading this message in another notebook frontend (for example, a static\n",
       "  rendering on GitHub or <a href=\"https://nbviewer.jupyter.org/\">NBViewer</a>),\n",
       "  it may mean that your frontend doesn't currently support widgets.\n",
       "</p>\n"
      ],
      "text/plain": [
       "interactive(children=(Button(description='Run Interact', style=ButtonStyle()), Output()), _dom_classes=('widget-interact',))"
      ]
     },
     "metadata": {},
     "output_type": "display_data"
    },
    {
     "data": {
      "text/plain": [
       "<function __main__.roll_call>"
      ]
     },
     "execution_count": 1,
     "metadata": {},
     "output_type": "execute_result"
    }
   ],
   "source": [
    "%matplotlib inline\n",
    "import numpy as np\n",
    "import matplotlib.pyplot as plt\n",
    "from ipywidgets import interact_manual\n",
    "\n",
    "def roll_call():\n",
    "    \n",
    "    matesList = [\"大雄\",\"胖虎\",\"小夫\",\"宜靜\",\"小杉\"]\n",
    "    the_lucky_one = np.random.choice(matesList, 1)\n",
    "    print(\"{} 在不在？\".format(the_lucky_one))\n",
    "\n",
    "\n",
    "print(\"開始點名：\")\n",
    "interact_manual(roll_call)\n",
    "\n"
   ]
  },
  {
   "cell_type": "markdown",
   "metadata": {},
   "source": [
    "# 第二題：變長變短\n",
    "做一個數值滑桿, 數字變大某個 bar 就變長或變短。\n",
    "bar = \"■\"\n",
    "### Hint\n",
    "需要先寫一個輸入數字會印出對應長度bar的function"
   ]
  },
  {
   "cell_type": "code",
   "execution_count": 20,
   "metadata": {},
   "outputs": [
    {
     "name": "stdout",
     "output_type": "stream",
     "text": [
      "請輸入一個正整數: 8\n"
     ]
    },
    {
     "data": {
      "application/vnd.jupyter.widget-view+json": {
       "model_id": "f7c632a1fa964c3e8337a2c4a31ffc06",
       "version_major": 2,
       "version_minor": 0
      },
      "text/html": [
       "<p>Failed to display Jupyter Widget of type <code>interactive</code>.</p>\n",
       "<p>\n",
       "  If you're reading this message in Jupyter Notebook or JupyterLab, it may mean\n",
       "  that the widgets JavaScript is still loading. If this message persists, it\n",
       "  likely means that the widgets JavaScript library is either not installed or\n",
       "  not enabled. See the <a href=\"https://ipywidgets.readthedocs.io/en/stable/user_install.html\">Jupyter\n",
       "  Widgets Documentation</a> for setup instructions.\n",
       "</p>\n",
       "<p>\n",
       "  If you're reading this message in another notebook frontend (for example, a static\n",
       "  rendering on GitHub or <a href=\"https://nbviewer.jupyter.org/\">NBViewer</a>),\n",
       "  it may mean that your frontend doesn't currently support widgets.\n",
       "</p>\n"
      ],
      "text/plain": [
       "interactive(children=(IntSlider(value=8, description='input_num', max=16), Output()), _dom_classes=('widget-interact',))"
      ]
     },
     "metadata": {},
     "output_type": "display_data"
    }
   ],
   "source": [
    "%matplotlib inline\n",
    "import numpy as np\n",
    "import matplotlib.pyplot as plt\n",
    "from ipywidgets import interact\n",
    "\n",
    "def inAndOut(input_num):\n",
    "    print(\"■\"*int(input_num))\n",
    "\n",
    "def make_slider():\n",
    "    n = int(float(input(\"請輸入一個正整數: \")))\n",
    "\n",
    "    while(n <= 0):\n",
    "        n = int(float(input(\"請輸入一個正整數: \")))\n",
    "    \n",
    "    interact(inAndOut, input_num = (0, n*2))\n",
    "    \n",
    "make_slider()\n"
   ]
  },
  {
   "cell_type": "markdown",
   "metadata": {},
   "source": [
    "# 第三題：考試加權分數\n",
    "小明今年考大學<br>\n",
    "依照 [國, 英, 數甲, 數乙, 物, 化, 生, 歷, 地, 公]<br>\n",
    "他的分數分別是 [86.5, 79.4, 88.2, 96.5, 86.3, 76.8, 96.1, 78.5, 82.4, 88.6]<br>\n",
    "而他所想申請的大學各系採計的科目權重分別是<br>\n",
    "{<br>\n",
    "\"土語系\": [2, 2, 0, 1, 0, 0, 0, 1, 1, 0],<br>\n",
    "\"財政系\": [1, 1.5, 0, 1.5, 0, 0, 0, 0, 0, 0],<br>\n",
    "\"金融系\": [1, 1.5, 0, 2, 0, 0, 0, 0, 0, 0],<br>\n",
    "\"國貿系\": [1.5, 2, 0, 2, 0, 0, 0, 0, 0, 0],<br>\n",
    "\"會計系\": [1.5, 2, 0, 2, 0, 0, 0, 1, 1, 0],<br>\n",
    "\"法律系\": [1, 2, 0, 1, 0, 0, 0, 1, 0, 1],<br>\n",
    "\"公行系\": [1, 1.5, 0, 1.25, 0, 0, 0, 0, 0, 1.25],<br>\n",
    "\"應數系\": [1, 1, 1.5, 0, 1, 1, 0, 0, 0, 0],<br>\n",
    "\"教育系\": [1.5, 2, 0, 1.25, 0, 0, 0, 1, 1, 0]<br>\n",
    "}<br>\n",
    "<br>\n",
    "請幫他做出一個互動介面<br>\n",
    "讓他在選擇科系後可以看到他的加權分數<br>\n",
    "取到小數點後第一位<br>\n",
    "\n",
    "### Hint\n",
    "需要先寫出一個函數 輸入某個科系的名稱後 會告訴你分數是多少<br>\n",
    "用 numpy array 可以快速的算出加權分數<br>\n",
    "如何只顯示到小數點第一位可以參考影片 0407 互動範例BMI計算器<br>\n",
    "可以用 interact<br>"
   ]
  },
  {
   "cell_type": "code",
   "execution_count": 34,
   "metadata": {},
   "outputs": [
    {
     "data": {
      "application/vnd.jupyter.widget-view+json": {
       "model_id": "ed3e2d47f78b4536b4e962146b4d5405",
       "version_major": 2,
       "version_minor": 0
      },
      "text/html": [
       "<p>Failed to display Jupyter Widget of type <code>interactive</code>.</p>\n",
       "<p>\n",
       "  If you're reading this message in Jupyter Notebook or JupyterLab, it may mean\n",
       "  that the widgets JavaScript is still loading. If this message persists, it\n",
       "  likely means that the widgets JavaScript library is either not installed or\n",
       "  not enabled. See the <a href=\"https://ipywidgets.readthedocs.io/en/stable/user_install.html\">Jupyter\n",
       "  Widgets Documentation</a> for setup instructions.\n",
       "</p>\n",
       "<p>\n",
       "  If you're reading this message in another notebook frontend (for example, a static\n",
       "  rendering on GitHub or <a href=\"https://nbviewer.jupyter.org/\">NBViewer</a>),\n",
       "  it may mean that your frontend doesn't currently support widgets.\n",
       "</p>\n"
      ],
      "text/plain": [
       "interactive(children=(Dropdown(description='department', options={'金融系': [1, 1.5, 0, 2, 0, 0, 0, 0, 0, 0], '會計系': [1.5, 2, 0, 2, 0, 0, 0, 1, 1, 0], '應數系': [1, 1, 1.5, 0, 1, 1, 0, 0, 0, 0], '法律系': [1, 2, 0, 1, 0, 0, 0, 1, 0, 1], '財政系': [1, 1.5, 0, 1.5, 0, 0, 0, 0, 0, 0], '教育系': [1.5, 2, 0, 1.25, 0, 0, 0, 1, 1, 0], '公行系': [1, 1.5, 0, 1.25, 0, 0, 0, 0, 0, 1.25], '國貿系': [1.5, 2, 0, 2, 0, 0, 0, 0, 0, 0], '土語系': [2, 2, 0, 1, 0, 0, 0, 1, 1, 0]}, value=[1, 1.5, 0, 2, 0, 0, 0, 0, 0, 0]), Output()), _dom_classes=('widget-interact',))"
      ]
     },
     "metadata": {},
     "output_type": "display_data"
    },
    {
     "data": {
      "text/plain": [
       "<function __main__.count_grades>"
      ]
     },
     "execution_count": 34,
     "metadata": {},
     "output_type": "execute_result"
    }
   ],
   "source": [
    "%matplotlib inline\n",
    "import numpy as np\n",
    "import matplotlib.pyplot as plt\n",
    "from ipywidgets import interact\n",
    "\n",
    "weights_list = {\n",
    "        \"土語系\": [2, 2, 0, 1, 0, 0, 0, 1, 1, 0],\n",
    "        \"財政系\": [1, 1.5, 0, 1.5, 0, 0, 0, 0, 0, 0],\n",
    "        \"金融系\": [1, 1.5, 0, 2, 0, 0, 0, 0, 0, 0],\n",
    "        \"國貿系\": [1.5, 2, 0, 2, 0, 0, 0, 0, 0, 0],\n",
    "        \"會計系\": [1.5, 2, 0, 2, 0, 0, 0, 1, 1, 0],\n",
    "        \"法律系\": [1, 2, 0, 1, 0, 0, 0, 1, 0, 1],\n",
    "        \"公行系\": [1, 1.5, 0, 1.25, 0, 0, 0, 0, 0, 1.25],\n",
    "        \"應數系\": [1, 1, 1.5, 0, 1, 1, 0, 0, 0, 0],\n",
    "        \"教育系\": [1.5, 2, 0, 1.25, 0, 0, 0, 1, 1, 0]\n",
    "    }\n",
    "\n",
    "def count_grades(department):\n",
    "    ming_grades =  np.array([86.5, 79.4, 88.2, 96.5, 86.3, 76.8, 96.1, 78.5, 82.4, 88.6])\n",
    "    weight = np.array(department)\n",
    "#     print(\"原始成績：{}\".format(ming_grades))\n",
    "#     print(\"加權值：{}\".format(weight))\n",
    "#     print(\"加權後成績：{}\".format(ming_grades*weight))\n",
    "    target_grades = np.dot(ming_grades, weight)\n",
    "    print(\"{:.1f}\".format(target_grades))\n",
    "    \n",
    "interact(count_grades, department = weights_list)\n"
   ]
  },
  {
   "cell_type": "markdown",
   "metadata": {},
   "source": [
    "# Challenge Challenge魔鬼挑戰題：\n",
    "（做完可以直接得到一百分）\n",
    "將上週挑戰題一所要求的函式在10行以內寫出來\n",
    "\n",
    "題目：<br>\n",
    "請定義一個全班高微成績的函式，輸入是一個(3, 30, 3)的array，<br>\n",
    "表示3個班級中30位學生的成績(小考，期中考，期末考) 。<br>\n",
    "目標輸出則是一個(3, 30, 1)的array，表示所有學生的期末成績， 期末成績計算方式如下：<br>\n",
    "小考20%，期中考35%，期末考45%<br>\n",
    "期中考40%，期末考60%。<br>\n",
    "擇優作為期末成績<br>\n",
    "\n",
    "## Hint\n",
    "numpy.dot<br>\n",
    "numpy.where<br>\n"
   ]
  },
  {
   "cell_type": "code",
   "execution_count": null,
   "metadata": {},
   "outputs": [],
   "source": []
  }
 ],
 "metadata": {
  "kernelspec": {
   "display_name": "Python 3",
   "language": "python",
   "name": "python3"
  },
  "language_info": {
   "codemirror_mode": {
    "name": "ipython",
    "version": 3
   },
   "file_extension": ".py",
   "mimetype": "text/x-python",
   "name": "python",
   "nbconvert_exporter": "python",
   "pygments_lexer": "ipython3",
   "version": "3.5.2"
  }
 },
 "nbformat": 4,
 "nbformat_minor": 2
}
