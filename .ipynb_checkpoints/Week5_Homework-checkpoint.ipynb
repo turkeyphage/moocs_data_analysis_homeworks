{
 "cells": [
  {
   "cell_type": "markdown",
   "metadata": {},
   "source": [
    "# 第一題_算閏年：\n",
    "<br>請定義一個函式，讀進一個年份，輸出是不是閏年。\n",
    "<br>提示：\n",
    "<br>目前使用的格里高利曆閏年規則如下：\n",
    "<br>\n",
    "<br>4的倍數是可能的。\n",
    "<br>100的倍數是不可能的。\n",
    "<br>400的倍數是可能的。"
   ]
  },
  {
   "cell_type": "code",
   "execution_count": null,
   "metadata": {},
   "outputs": [],
   "source": []
  },
  {
   "cell_type": "markdown",
   "metadata": {},
   "source": [
    "# 第二題_請實作五乘五矩陣的矩陣加法函式：\n",
    "<br>ex:\n",
    "<br>def matrix_plus(m1+m2):"
   ]
  },
  {
   "cell_type": "code",
   "execution_count": null,
   "metadata": {},
   "outputs": [],
   "source": []
  },
  {
   "cell_type": "markdown",
   "metadata": {},
   "source": [
    "# 第三題_錄取分數表格\n",
    "<br>小明今年考大學\n",
    "<br>依照 [“國文”, “英文”, “數甲”, “數乙”, “物理”, “化學”, “生物”, “歷史”, “地理”, “公民”]\n",
    "<br>他的分數分別是 [86.5, 79.4, 88.2, 96.5, 86.3, 76.8, 96.1, 78.5, 82.4, 88.6]\n",
    "<br>而他所想申請的大學各系採計的科目權重分別是\n",
    "<br>{\n",
    "<br>“土語系”: [2, 2, 0, 1, 0, 0, 0, 1, 1, 0],\n",
    "<br>“財政系”: [1, 1.5, 0, 1.5, 0, 0, 0, 0, 0, 0],\n",
    "<br>“金融系”: [1, 1.5, 0, 2, 0, 0, 0, 0, 0, 0],\n",
    "<br>“國貿系”: [1.5, 2, 0, 2, 0, 0, 0, 0, 0, 0],\n",
    "<br>“會計系”: [1.5, 2, 0, 2, 0, 0, 0, 1, 1, 0],\n",
    "<br>“法律系”: [1, 2, 0, 1, 0, 0, 0, 1, 0, 1],\n",
    "<br>“公行系”: [1, 1.5, 0, 1.25, 0, 0, 0, 0, 0, 1.25],\n",
    "<br>“應數系”: [1, 1, 1.5, 0, 1, 1, 0, 0, 0, 0],\n",
    "<br>“教育系”: [1.5, 2, 0, 1.25, 0, 0, 0, 1, 1, 0]\n",
    "<br>}\n",
    "<br>\n",
    "<br>請幫他做出一個表格\n",
    "<br>第一欄顯示科系\n",
    "<br>接下來顯示權重 並標示科目\n",
    "<br>最後一欄顯示加權分數\n",
    "\n",
    "## Hint\n",
    "<br>在dataframe最左邊那欄叫index 最上面叫columns\n",
    "<br>小明的分數跟各科系權重可以直接複製上面的文字使用\n",
    "<br>表格裡面的內容可以用for迴圈跑過個科系 取出該科系的權重 然後整理成一個二維的list\n",
    "<br>加權分數的算法可以試試看直接把表格跟分數相乘 會有意想不到的結果喔\n",
    "<br>如何算加權分數可以參考影片5.4: 「用熊貓做基本數據分析」"
   ]
  },
  {
   "cell_type": "code",
   "execution_count": null,
   "metadata": {},
   "outputs": [],
   "source": []
  },
  {
   "cell_type": "markdown",
   "metadata": {},
   "source": [
    "# 挑戰題一_Bubble Sort\n",
    "<br>Geoffrey是個喜歡自動化的老師，某次期中考過後，他想要把學生的成績用電腦自動排序，於是他請Andrew幫忙開發這個高難度的程式…\n",
    "<br>\n",
    "<br>限制：不可以使用Python內建的sort()\n",
    "<br>\n",
    "<br>提示：\n",
    "<br>\n",
    "<br>每回合都把該回合範圍內最小的數搬到最左邊，最後就可以排好所有的數\n",
    "<br>搬運的方式可以透過兩兩互換"
   ]
  },
  {
   "cell_type": "code",
   "execution_count": null,
   "metadata": {},
   "outputs": [],
   "source": []
  }
 ],
 "metadata": {
  "kernelspec": {
   "display_name": "Python 3",
   "language": "python",
   "name": "python3"
  },
  "language_info": {
   "codemirror_mode": {
    "name": "ipython",
    "version": 3
   },
   "file_extension": ".py",
   "mimetype": "text/x-python",
   "name": "python",
   "nbconvert_exporter": "python",
   "pygments_lexer": "ipython3",
   "version": "3.5.2"
  }
 },
 "nbformat": 4,
 "nbformat_minor": 2
}
