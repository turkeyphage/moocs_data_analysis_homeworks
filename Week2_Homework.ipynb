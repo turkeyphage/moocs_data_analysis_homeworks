{
 "cells": [
  {
   "cell_type": "markdown",
   "metadata": {},
   "source": [
    "# 第一題【猜數字遊戲】：\n",
    "電腦由 1 到 100 「想」一個數字。你開始猜電腦想的數字, 太大或大小電腦會告訴你, 直到猜對。"
   ]
  },
  {
   "cell_type": "code",
   "execution_count": 12,
   "metadata": {},
   "outputs": [
    {
     "name": "stdout",
     "output_type": "stream",
     "text": [
      "Guess my number? (int: 1~100) >> 10\n",
      "Your guess is lower. Try Again!\n",
      "Guess my number? (int: 1~100) >> 20\n",
      "Your guess is lower. Try Again!\n",
      "Guess my number? (int: 1~100) >> 30\n",
      "Your guess is lower. Try Again!\n",
      "Guess my number? (int: 1~100) >> 40\n",
      "Your guess is lower. Try Again!\n",
      "Guess my number? (int: 1~100) >> 50\n",
      "Your guess is lower. Try Again!\n",
      "Guess my number? (int: 1~100) >> 60\n",
      "Your guess is lower. Try Again!\n",
      "Guess my number? (int: 1~100) >> 70\n",
      "Your guess is lower. Try Again!\n",
      "Guess my number? (int: 1~100) >> 80\n",
      "Your guess is lower. Try Again!\n",
      "Guess my number? (int: 1~100) >> 90\n",
      "Your guess is lower. Try Again!\n",
      "Guess my number? (int: 1~100) >> 99\n",
      "Bingo! (Your guess: 99 ; Answer: 99)\n"
     ]
    }
   ],
   "source": [
    "import random\n",
    "guess_what = random.randint(1, 101)\n",
    "user_guess = int(input(\"Guess my number? (int: 1~100) >> \"))\n",
    "while user_guess != guess_what:\n",
    "    if user_guess < guess_what:\n",
    "        print(\"Your guess is lower. Try Again!\")\n",
    "    else:\n",
    "        print(\"Your guess is higher. Try Again!\")\n",
    "    user_guess = int(input(\"Guess my number? (int: 1~100) >> \"))\n",
    "print(\"Bingo! (Your guess: {} ; Answer: {})\".format(user_guess, guess_what))"
   ]
  },
  {
   "cell_type": "markdown",
   "metadata": {},
   "source": [
    "# 第二題【感恩讚嘆機器人】：\n",
    "請依照老師本週影片的作法，\n",
    "製作出感恩讚嘆機器人，\n",
    "也就是回應的格式一律是：\n",
    "「感恩ＯＯ，讚嘆ＯＯ。」\n",
    "\n",
    "範例：\n",
    "\n",
    "「嗨，今天天氣很好，要一起去洞爺湖喝茶吃魚嗎？」\n",
    "\n",
    "『感恩炎龍，讚嘆炎龍。』"
   ]
  },
  {
   "cell_type": "code",
   "execution_count": 4,
   "metadata": {},
   "outputs": [
    {
     "name": "stdout",
     "output_type": "stream",
     "text": [
      ">> 嗨，今天天氣很好，要一起去洞爺湖喝茶吃魚嗎？\n",
      "感恩大大，讚嘆大大。\n",
      ">> 三小？\n",
      "感恩大大，讚嘆大大。\n",
      ">> 哩中猴？\n",
      "感恩大大，讚嘆大大。\n",
      ">> 你夠了喔！\n"
     ]
    }
   ],
   "source": [
    "userInput = input(\">> \")\n",
    "bigbig = \"大大\"\n",
    "while userInput != \"你夠了喔！\":\n",
    "    print(\"感恩{}，讚嘆{}。\".format(bigbig, bigbig))\n",
    "    userInput = input(\">> \")"
   ]
  },
  {
   "cell_type": "markdown",
   "metadata": {
    "collapsed": true
   },
   "source": [
    "# 第三題 【寫個函數讓字串倒過來排】：\n",
    "寫一個函數, 比如說叫 reverse,\n",
    "\n",
    "然後輸入一個字串,\n",
    "\n",
    "st = “hello”\n",
    "\n",
    "reverse(“hello”)\n",
    "\n",
    "就回傳這個字串\n",
    "\n",
    "‘olleh’"
   ]
  },
  {
   "cell_type": "code",
   "execution_count": 7,
   "metadata": {},
   "outputs": [
    {
     "name": "stdout",
     "output_type": "stream",
     "text": [
      "請輸入一個字串： >> hello\n",
      "olleh\n"
     ]
    }
   ],
   "source": [
    "def reverse(target_str):\n",
    "    return target_str[::-1]\n",
    "print(reverse(input(\"請輸入一個字串： >> \")))"
   ]
  },
  {
   "cell_type": "markdown",
   "metadata": {},
   "source": [
    "# 挑戰題一【天干地支】：\n",
    "\n",
    "年份是用天干地支\n",
    "\n",
    "天干:甲乙丙丁戊己庚辛壬癸\n",
    "\n",
    "地支:子丑寅卯辰巳午未申酉戌亥\n",
    "\n",
    "2014年是甲午年\n",
    "\n",
    "2015年是乙未年\n",
    "\n",
    "…\n",
    "\n",
    "輸出2014~2073是什麼年"
   ]
  },
  {
   "cell_type": "code",
   "execution_count": 10,
   "metadata": {},
   "outputs": [
    {
     "name": "stdout",
     "output_type": "stream",
     "text": [
      "2014 是 甲午年\n",
      "2015 是 乙未年\n",
      "2016 是 丙申年\n",
      "2017 是 丁酉年\n",
      "2018 是 戊戌年\n",
      "2019 是 己亥年\n",
      "2020 是 庚子年\n",
      "2021 是 辛丑年\n",
      "2022 是 壬寅年\n",
      "2023 是 癸卯年\n",
      "2024 是 甲辰年\n",
      "2025 是 乙巳年\n",
      "2026 是 丙午年\n",
      "2027 是 丁未年\n",
      "2028 是 戊申年\n",
      "2029 是 己酉年\n",
      "2030 是 庚戌年\n",
      "2031 是 辛亥年\n",
      "2032 是 壬子年\n",
      "2033 是 癸丑年\n",
      "2034 是 甲寅年\n",
      "2035 是 乙卯年\n",
      "2036 是 丙辰年\n",
      "2037 是 丁巳年\n",
      "2038 是 戊午年\n",
      "2039 是 己未年\n",
      "2040 是 庚申年\n",
      "2041 是 辛酉年\n",
      "2042 是 壬戌年\n",
      "2043 是 癸亥年\n",
      "2044 是 甲子年\n",
      "2045 是 乙丑年\n",
      "2046 是 丙寅年\n",
      "2047 是 丁卯年\n",
      "2048 是 戊辰年\n",
      "2049 是 己巳年\n",
      "2050 是 庚午年\n",
      "2051 是 辛未年\n",
      "2052 是 壬申年\n",
      "2053 是 癸酉年\n",
      "2054 是 甲戌年\n",
      "2055 是 乙亥年\n",
      "2056 是 丙子年\n",
      "2057 是 丁丑年\n",
      "2058 是 戊寅年\n",
      "2059 是 己卯年\n",
      "2060 是 庚辰年\n",
      "2061 是 辛巳年\n",
      "2062 是 壬午年\n",
      "2063 是 癸未年\n",
      "2064 是 甲申年\n",
      "2065 是 乙酉年\n",
      "2066 是 丙戌年\n",
      "2067 是 丁亥年\n",
      "2068 是 戊子年\n",
      "2069 是 己丑年\n",
      "2070 是 庚寅年\n",
      "2071 是 辛卯年\n",
      "2072 是 壬辰年\n",
      "2073 是 癸巳年\n"
     ]
    }
   ],
   "source": [
    "天干 = \"甲乙丙丁戊己庚辛壬癸\"\n",
    "地支 = \"子丑寅卯辰巳午未申酉戌亥\"\n",
    "\n",
    "for i in range(2014, 2073+1):\n",
    "    a = (i - 2014 + 0) % len(天干)\n",
    "    b = (i - 2014 + 6) % len(地支)\n",
    "    print(\"{} 是 {}{}年\".format(i, 天干[a],地支[b]))\n",
    "    "
   ]
  },
  {
   "cell_type": "markdown",
   "metadata": {},
   "source": [
    "# 挑戰題二【我有一棵樹】：\n",
    "\n",
    "寫個 tree 函數, 給一個數字就會畫出如下的畫面。\n",
    "\n",
    "tree(6)"
   ]
  },
  {
   "cell_type": "code",
   "execution_count": 18,
   "metadata": {},
   "outputs": [
    {
     "name": "stdout",
     "output_type": "stream",
     "text": [
      "     *     \n",
      "    ***    \n",
      "   *****   \n",
      "  *******  \n",
      " ********* \n",
      "***********\n"
     ]
    }
   ],
   "source": [
    "def tree(lay):\n",
    "    for i in range(0, lay):\n",
    "        print(\"{}{}{}\".format(\" \"*(lay-(i+1)), \"*\"*(i*2+1), \" \"*(lay-(i+1)) ))\n",
    "        \n",
    "tree(6)"
   ]
  },
  {
   "cell_type": "markdown",
   "metadata": {},
   "source": [
    "# 挑戰題三：自己出！\n",
    "請依照本週的範圍（for/while迴圈、函式定義），自己出一題並完成！\n",
    "（可以從自己的生活或研究領域出題）\n",
    "\n",
    "題目：如果想存到人生的第一個100萬，存款年利率2%，每個月存1萬，需要多少年才能達成願望？"
   ]
  },
  {
   "cell_type": "code",
   "execution_count": 5,
   "metadata": {},
   "outputs": [
    {
     "name": "stdout",
     "output_type": "stream",
     "text": [
      "每個月存10000, 年利率0.02, 7.75年後可達標！ (共存1006718.9674076089元)\n"
     ]
    }
   ],
   "source": [
    "target = 1000000\n",
    "mpv = 10000\n",
    "r = 0.02\n",
    "\n",
    "n = 0\n",
    "mfv = 0\n",
    "\n",
    "while mfv < target:\n",
    "    mfv = (mfv+mpv)*(1+r/12)\n",
    "    n = n+1\n",
    "    \n",
    "print(\"每個月存{}, 年利率{}, {}年後可達標！ (共存{}元)\".format(mpv,r,n/12,mfv))"
   ]
  },
  {
   "cell_type": "code",
   "execution_count": null,
   "metadata": {
    "collapsed": true
   },
   "outputs": [],
   "source": []
  }
 ],
 "metadata": {
  "kernelspec": {
   "display_name": "Python 3",
   "language": "python",
   "name": "python3"
  },
  "language_info": {
   "codemirror_mode": {
    "name": "ipython",
    "version": 3
   },
   "file_extension": ".py",
   "mimetype": "text/x-python",
   "name": "python",
   "nbconvert_exporter": "python",
   "pygments_lexer": "ipython3",
   "version": "3.6.2"
  }
 },
 "nbformat": 4,
 "nbformat_minor": 2
}
